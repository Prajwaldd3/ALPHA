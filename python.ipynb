{
  "nbformat": 4,
  "nbformat_minor": 0,
  "metadata": {
    "colab": {
      "provenance": []
    },
    "kernelspec": {
      "name": "python3",
      "display_name": "Python 3"
    },
    "language_info": {
      "name": "python"
    }
  },
  "cells": [
    {
      "cell_type": "code",
      "execution_count": null,
      "metadata": {
        "id": "rBR58Ialexrg",
        "colab": {
          "base_uri": "https://localhost:8080/"
        },
        "outputId": "5fa14821-d22e-47b1-baf3-fc9ca249fe96"
      },
      "outputs": [
        {
          "output_type": "stream",
          "name": "stdout",
          "text": [
            "65\n",
            "1\n",
            "3\n",
            "6\n",
            "10\n",
            "15\n",
            "21\n",
            "28\n",
            "36\n",
            "45\n",
            "55\n",
            "66\n",
            "78\n",
            "91\n",
            "105\n",
            "120\n",
            "136\n",
            "153\n",
            "171\n",
            "190\n",
            "210\n",
            "231\n",
            "253\n",
            "276\n",
            "300\n",
            "325\n",
            "351\n",
            "378\n",
            "406\n",
            "435\n",
            "465\n",
            "496\n",
            "528\n",
            "561\n",
            "595\n",
            "630\n",
            "666\n",
            "703\n",
            "741\n",
            "780\n",
            "820\n",
            "861\n",
            "903\n",
            "946\n",
            "990\n",
            "1035\n",
            "1081\n",
            "1128\n",
            "1176\n",
            "1225\n",
            "1275\n",
            "1326\n",
            "1378\n",
            "1431\n",
            "1485\n",
            "1540\n",
            "1596\n",
            "1653\n",
            "1711\n",
            "1770\n",
            "1830\n",
            "1891\n",
            "1953\n",
            "2016\n",
            "2080\n",
            "2145\n"
          ]
        }
      ],
      "source": [
        "# prompt: x=int(input())\n",
        "\n",
        "x = int(input())\n",
        "sum=0\n",
        "for i in range(1,x+1):\n",
        "  sum+=i\n",
        "  print(sum)\n"
      ]
    },
    {
      "cell_type": "code",
      "source": [],
      "metadata": {
        "id": "npEncnxNqlFa"
      },
      "execution_count": null,
      "outputs": []
    },
    {
      "cell_type": "code",
      "source": [],
      "metadata": {
        "id": "BuvRCiKR1jzU"
      },
      "execution_count": null,
      "outputs": []
    },
    {
      "cell_type": "code",
      "source": [],
      "metadata": {
        "id": "ModvjTKu03Od"
      },
      "execution_count": null,
      "outputs": []
    },
    {
      "cell_type": "code",
      "source": [
        "s=int(input(\"enter a number\"))\n",
        "sum=0\n",
        "for i in range(1,s+1):\n",
        "  sum+=i\n",
        "  print(sum)\n"
      ],
      "metadata": {
        "id": "NNI5yRho0w5Q",
        "colab": {
          "base_uri": "https://localhost:8080/"
        },
        "outputId": "a35dd7b1-460d-4729-c136-ad1903d90e5c"
      },
      "execution_count": null,
      "outputs": [
        {
          "output_type": "stream",
          "name": "stdout",
          "text": [
            "enter a number4\n",
            "1\n",
            "3\n",
            "6\n",
            "10\n"
          ]
        }
      ]
    },
    {
      "cell_type": "code",
      "source": [
        "a=5\n",
        "while a<=5:\n",
        "  print(a,end=\" \")\n",
        "  a=a+5"
      ],
      "metadata": {
        "colab": {
          "base_uri": "https://localhost:8080/"
        },
        "id": "nErq2if95E3z",
        "outputId": "8058b327-4f2c-4024-f61b-ecf973344988"
      },
      "execution_count": null,
      "outputs": [
        {
          "output_type": "stream",
          "name": "stdout",
          "text": [
            "5 "
          ]
        }
      ]
    },
    {
      "cell_type": "code",
      "source": [
        "h=int(input(\"enter a number\"))\n",
        "for i in range(1,10+1):\n",
        "  print(h,\"*\",i,\"=\",x*1)\n"
      ],
      "metadata": {
        "colab": {
          "base_uri": "https://localhost:8080/"
        },
        "id": "2RZF60nx5q5i",
        "outputId": "cd653d17-b6dc-4eaa-87e9-48af41c49bce"
      },
      "execution_count": null,
      "outputs": [
        {
          "output_type": "stream",
          "name": "stdout",
          "text": [
            "enter a number10\n",
            "10 * 1 = 65\n",
            "10 * 2 = 65\n",
            "10 * 3 = 65\n",
            "10 * 4 = 65\n",
            "10 * 5 = 65\n",
            "10 * 6 = 65\n",
            "10 * 7 = 65\n",
            "10 * 8 = 65\n",
            "10 * 9 = 65\n",
            "10 * 10 = 65\n"
          ]
        }
      ]
    },
    {
      "cell_type": "code",
      "source": [],
      "metadata": {
        "id": "5QYjPQim6q5k"
      },
      "execution_count": null,
      "outputs": []
    },
    {
      "cell_type": "code",
      "source": [
        "x=\"Bengalore\"\n",
        "for i in range()"
      ],
      "metadata": {
        "colab": {
          "base_uri": "https://localhost:8080/",
          "height": 106
        },
        "id": "Kglxzb4G7JjB",
        "outputId": "43073782-ec0f-49f8-eb07-8247c7132c74"
      },
      "execution_count": null,
      "outputs": [
        {
          "output_type": "error",
          "ename": "SyntaxError",
          "evalue": "expected ':' (<ipython-input-12-f1cb34c4a101>, line 2)",
          "traceback": [
            "\u001b[0;36m  File \u001b[0;32m\"<ipython-input-12-f1cb34c4a101>\"\u001b[0;36m, line \u001b[0;32m2\u001b[0m\n\u001b[0;31m    for i in range()\u001b[0m\n\u001b[0m                    ^\u001b[0m\n\u001b[0;31mSyntaxError\u001b[0m\u001b[0;31m:\u001b[0m expected ':'\n"
          ]
        }
      ]
    },
    {
      "cell_type": "code",
      "source": [
        "x = input()\n",
        "digit=0\n",
        "alphabet = 0\n",
        "for i in x:\n",
        "    if i.isdigit():\n",
        "        digit+=1\n",
        "    elif i.isalpha():\n",
        "        alphabet+=1\n",
        "print(digit)\n",
        "print(alphabet)\n"
      ],
      "metadata": {
        "id": "MDWCd2c69-IF",
        "colab": {
          "base_uri": "https://localhost:8080/"
        },
        "outputId": "db150c2f-4ec8-47d5-8dea-9bffa10dfcdf"
      },
      "execution_count": 3,
      "outputs": [
        {
          "output_type": "stream",
          "name": "stdout",
          "text": [
            "BCA2020N\n",
            "4\n",
            "4\n"
          ]
        }
      ]
    },
    {
      "cell_type": "code",
      "source": [],
      "metadata": {
        "id": "OmfpyDPAt4Zc"
      },
      "execution_count": null,
      "outputs": []
    }
  ]
}